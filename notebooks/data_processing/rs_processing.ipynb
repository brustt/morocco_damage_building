{
 "cells": [
  {
   "cell_type": "code",
   "execution_count": 12,
   "id": "70135bb7-4c49-4e90-a7f6-c6d4dbc12db0",
   "metadata": {},
   "outputs": [],
   "source": [
    "from rasterio.warp import reproject, Resampling, calculate_default_transform\n",
    "import rasterio as rio\n",
    "import geopandas as gpd\n",
    "import pandas as pd\n",
    "import os\n",
    "from shapely import wkt\n",
    "from shapely.geometry import box\n",
    "import leafmap.foliumap as leafmap\n",
    "import folium\n",
    "import rioxarray as rioxr\n",
    "import matplotlib.pyplot as plt\n",
    "import numpy"
   ]
  },
  {
   "cell_type": "code",
   "execution_count": null,
   "id": "d5dce838-8888-4e74-8cc6-7c86829941db",
   "metadata": {},
   "outputs": [],
   "source": []
  },
  {
   "cell_type": "code",
   "execution_count": 3,
   "id": "9e5f66d2-9a49-4f8d-a8ca-bef12a0d8e09",
   "metadata": {},
   "outputs": [],
   "source": [
    "pd.options.display.max_columns = 50"
   ]
  },
  {
   "cell_type": "code",
   "execution_count": 4,
   "id": "35e840ed-8271-442c-b98c-43cbee37bd45",
   "metadata": {},
   "outputs": [],
   "source": [
    "CRS = 32629"
   ]
  },
  {
   "cell_type": "code",
   "execution_count": 5,
   "id": "f06616f3-9e32-4d7c-bd7a-9bf0f36e0827",
   "metadata": {},
   "outputs": [],
   "source": [
    "project_path = os.path.expanduser(\"~/Documents/Projects/building_damage\")\n",
    "out_dir_path = os.path.join(project_path, \"Data/processed\")\n",
    "building_root_path = os.path.join(project_path, \"Data/raw/building_footprint\")\n",
    "raw_data_path = os.path.join(project_path, \"Data/raw\")"
   ]
  },
  {
   "cell_type": "code",
   "execution_count": 7,
   "id": "c9634ce6-1c25-489a-946d-56280bc0052c",
   "metadata": {},
   "outputs": [],
   "source": [
    "name = \"Adassil\"\n",
    "delta_event = \"before\"\n",
    "rs_test_path = os.path.join(out_dir_path, name, delta_event, \"1030010083A10700-visual.tif\")"
   ]
  },
  {
   "cell_type": "markdown",
   "id": "8fafd43b-1f02-47a2-a586-35836bae8dc1",
   "metadata": {},
   "source": [
    "### Calibration"
   ]
  },
  {
   "cell_type": "code",
   "execution_count": 9,
   "id": "65cf6d9e-0c58-4608-8673-662728403077",
   "metadata": {},
   "outputs": [],
   "source": [
    "rs = rioxr.open_rasterio(rs_test_path)"
   ]
  },
  {
   "cell_type": "code",
   "execution_count": 21,
   "id": "f7abe825-a363-4815-973d-dd6eb499e07f",
   "metadata": {},
   "outputs": [
    {
     "data": {
      "text/plain": [
       "<Axes: >"
      ]
     },
     "execution_count": 21,
     "metadata": {},
     "output_type": "execute_result"
    },
    {
     "data": {
      "image/png": "[encoded data removed]",
      "text/plain": [
       "<Figure size 640x480 with 1 Axes>"
      ]
     },
     "metadata": {},
     "output_type": "display_data"
    }
   ],
   "source": [
    "pd.Series(rs.sel(band=1).data.flatten()).hist(bins=30)"
   ]
  },
  {
   "cell_type": "markdown",
   "id": "7a7d2693-c236-4b86-a19f-00cb14d4e2bd",
   "metadata": {},
   "source": [
    "OK déjà en reflectance"
   ]
  },
  {
   "cell_type": "markdown",
   "id": "4a5b5ee4-cfd4-465d-8499-63627c5db151",
   "metadata": {},
   "source": [
    "### Co-registration"
   ]
  },
  {
   "cell_type": "markdown",
   "id": "6e268b33-62a7-45b3-aac8-893d43652337",
   "metadata": {},
   "source": [
    "https://pygis.io/docs/e_raster_resample.html"
   ]
  },
  {
   "cell_type": "code",
   "execution_count": null,
   "id": "b1257ebf-5602-4b96-a38b-2816d3ca0b35",
   "metadata": {},
   "outputs": [],
   "source": [
    "def reproj_match(infile, match, outfile):\n",
    "    \"\"\"Reproject a file to match the shape and projection of existing raster. \n",
    "    \n",
    "    Parameters\n",
    "    ----------\n",
    "    infile : (string) path to input file to reproject\n",
    "    match : (string) path to raster with desired shape and projection \n",
    "    outfile : (string) path to output file tif\n",
    "    \"\"\"\n",
    "    # open input\n",
    "    with rasterio.open(infile) as src:\n",
    "        src_transform = src.transform\n",
    "        \n",
    "        # open input to match\n",
    "        with rasterio.open(match) as match:\n",
    "            dst_crs = match.crs\n",
    "            \n",
    "            # calculate the output transform matrix\n",
    "            dst_transform, dst_width, dst_height = calculate_default_transform(\n",
    "                src.crs,     # input CRS\n",
    "                dst_crs,     # output CRS\n",
    "                match.width,   # input width\n",
    "                match.height,  # input height \n",
    "                *match.bounds,  # unpacks input outer boundaries (left, bottom, right, top)\n",
    "            )\n",
    "\n",
    "        # set properties for output\n",
    "        dst_kwargs = src.meta.copy()\n",
    "        dst_kwargs.update({\"crs\": dst_crs,\n",
    "                           \"transform\": dst_transform,\n",
    "                           \"width\": dst_width,\n",
    "                           \"height\": dst_height,\n",
    "                           \"nodata\": 0})\n",
    "        print(\"Coregistered to shape:\", dst_height,dst_width,'\\n Affine',dst_transform)\n",
    "        # open output\n",
    "        with rasterio.open(outfile, \"w\", **dst_kwargs) as dst:\n",
    "            # iterate through bands and write using reproject function\n",
    "            for i in range(1, src.count + 1):\n",
    "                reproject(\n",
    "                    source=rasterio.band(src, i),\n",
    "                    destination=rasterio.band(dst, i),\n",
    "                    src_transform=src.transform,\n",
    "                    src_crs=src.crs,\n",
    "                    dst_transform=dst_transform,\n",
    "                    dst_crs=dst_crs,\n",
    "                    resampling=Resampling.nearest)"
   ]
  },
  {
   "cell_type": "code",
   "execution_count": null,
   "id": "ac70d526-ae36-4295-8c65-3266c7b86d12",
   "metadata": {},
   "outputs": [],
   "source": [
    "LS = \"../data/LC08_L1TP_224078_20200518_20200518_01_RT.TIF\"\n",
    "precip = \"../data/precipitation_20200601_500m.tif\"\n",
    "\n",
    "reproj_match(infile = LS, \n",
    "             match= precip,\n",
    "             outfile = '../temp/LS_reg_precip.tif')"
   ]
  }
 ],
 "metadata": {
  "kernelspec": {
   "display_name": "Python 3 (ipykernel)",
   "language": "python",
   "name": "python3"
  },
  "language_info": {
   "codemirror_mode": {
    "name": "ipython",
    "version": 3
   },
   "file_extension": ".py",
   "mimetype": "text/x-python",
   "name": "python",
   "nbconvert_exporter": "python",
   "pygments_lexer": "ipython3",
   "version": "3.10.12"
  }
 },
 "nbformat": 4,
 "nbformat_minor": 5
}
