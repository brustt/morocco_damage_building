{
 "cells": [
  {
   "cell_type": "code",
   "execution_count": 2,
   "id": "46bc65d6-05c6-4c1d-a9d8-d9aac57653d6",
   "metadata": {},
   "outputs": [],
   "source": [
    "# changeos has four APIs\n",
    "# (e.g., 'list_available_models', 'from_name', 'visualize', 'demo_data')\n",
    "import changeos\n",
    "import matplotlib.pyplot as plt"
   ]
  },
  {
   "cell_type": "code",
   "execution_count": 3,
   "id": "fdc7c979-0cb7-4fe3-b2bc-ca7b15a59060",
   "metadata": {},
   "outputs": [],
   "source": [
    "import rasterio as rio\n",
    "import geopandas as gpd\n",
    "import fiona\n",
    "import os\n",
    "import pickle\n",
    "# enable kml file reading for geopandas\n",
    "from shapely.geometry import box, Polygon\n",
    "import pandas as pd\n",
    "import numpy as np\n",
    "import leafmap.foliumap as leafmap # use folium backend\n",
    "import rioxarray as rioxr\n",
    "import matplotlib.pyplot as plt\n",
    "from typing import List, Union, Dict\n",
    "from pathlib import Path\n",
    "fiona.drvsupport.supported_drivers['KML'] = 'rw'\n",
    "\n",
    "pd.options.display.max_columns = 50"
   ]
  },
  {
   "cell_type": "code",
   "execution_count": 4,
   "id": "b8d22eee-4b50-4171-a025-0c2d0f4ebd77",
   "metadata": {},
   "outputs": [],
   "source": [
    "CRS = 32629"
   ]
  },
  {
   "cell_type": "code",
   "execution_count": 5,
   "id": "6be4d008-9161-413f-b2f8-d7dd78346ff2",
   "metadata": {},
   "outputs": [],
   "source": [
    "project_path = os.path.expanduser(\"/home/rustt/Documents/Projects/building_damage\")"
   ]
  },
  {
   "cell_type": "code",
   "execution_count": 6,
   "id": "ce39d989-2985-42ff-afae-60c0322ae491",
   "metadata": {},
   "outputs": [],
   "source": [
    "out_dir_path = os.path.join(project_path, \"Data/processed\")\n",
    "raw_data_path = os.path.join(project_path, \"Data/raw\")"
   ]
  },
  {
   "cell_type": "code",
   "execution_count": 7,
   "id": "265f0e7f-cea8-4279-914c-5bba403bec47",
   "metadata": {},
   "outputs": [],
   "source": [
    "def make_path(file_name, *path):\n",
    "    return os.path.join(*path, file_name)\n",
    "\n",
    "def save_pickle(data, output_path):\n",
    "    with open(output_path, 'wb') as f:\n",
    "        pickle.dump(data, f)\n",
    "        \n",
    "def load_pickle(path):\n",
    "    with open(path, 'rb') as f:\n",
    "        data = pickle.load(f)\n",
    "    return data"
   ]
  },
  {
   "cell_type": "code",
   "execution_count": 8,
   "id": "fbd217cf-61af-4922-81d9-730ba02856f7",
   "metadata": {},
   "outputs": [],
   "source": [
    "town_test = \"Tafeghaghte\"\n",
    "date_event = '2023-09-09'"
   ]
  }
 ],
 "metadata": {
  "kernelspec": {
   "display_name": "Python 3 (ipykernel)",
   "language": "python",
   "name": "python3"
  },
  "language_info": {
   "codemirror_mode": {
    "name": "ipython",
    "version": 3
   },
   "file_extension": ".py",
   "mimetype": "text/x-python",
   "name": "python",
   "nbconvert_exporter": "python",
   "pygments_lexer": "ipython3",
   "version": "3.10.12"
  }
 },
 "nbformat": 4,
 "nbformat_minor": 5
}
