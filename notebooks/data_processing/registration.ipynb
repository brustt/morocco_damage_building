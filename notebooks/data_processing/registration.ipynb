{
 "cells": [
  {
   "cell_type": "code",
   "execution_count": 2,
   "id": "fdc7c979-0cb7-4fe3-b2bc-ca7b15a59060",
   "metadata": {},
   "outputs": [],
   "source": [
    "import rasterio as rio\n",
    "import geopandas as gpd\n",
    "import fiona\n",
    "import os\n",
    "import pickle\n",
    "# enable kml file reading for geopandas\n",
    "from shapely.geometry import box, Polygon\n",
    "import pandas as pd\n",
    "import numpy as np\n",
    "import leafmap.foliumap as leafmap # use folium backend\n",
    "import rioxarray as rioxr\n",
    "import matplotlib.pyplot as plt\n",
    "from typing import List, Union, Dict\n",
    "from pathlib import Path\n",
    "\n",
    "pd.options.display.max_columns = 50"
   ]
  },
  {
   "cell_type": "code",
   "execution_count": 3,
   "id": "b8d22eee-4b50-4171-a025-0c2d0f4ebd77",
   "metadata": {},
   "outputs": [],
   "source": [
    "from src.config import *\n",
    "from src.io.utils_io import load_maxar_items"
   ]
  },
  {
   "cell_type": "code",
   "execution_count": 4,
   "id": "fbd217cf-61af-4922-81d9-730ba02856f7",
   "metadata": {},
   "outputs": [],
   "source": [
    "town_test = \"Tafeghaghte\"\n",
    "date_event = '2023-09-09'"
   ]
  },
  {
   "cell_type": "code",
   "execution_count": 5,
   "id": "438a23ca-5bb3-49c7-96d6-26a742fe8901",
   "metadata": {},
   "outputs": [],
   "source": [
    "gdf = load_maxar_items(type_item=\"pan_analytic\")"
   ]
  },
  {
   "cell_type": "code",
   "execution_count": 7,
   "id": "4e31e391-99b9-4fa3-ad21-9fc5e2c6d107",
   "metadata": {},
   "outputs": [
    {
     "data": {
      "text/plain": [
       "'https://maxar-opendata.s3.amazonaws.com/events/Morocco-Earthquake-Sept-2023/ard/29/031313133123/2018-08-31/04eddade-a2dc-4d16-8710-fb764d318766-inv-pan.tif'"
      ]
     },
     "execution_count": 7,
     "metadata": {},
     "output_type": "execute_result"
    }
   ],
   "source": [
    "gdf.href.iloc[0]"
   ]
  },
  {
   "cell_type": "code",
   "execution_count": null,
   "id": "4ed169ca-30f6-445b-ae5c-632d50d831a0",
   "metadata": {},
   "outputs": [],
   "source": []
  }
 ],
 "metadata": {
  "kernelspec": {
   "display_name": "Python 3 (ipykernel)",
   "language": "python",
   "name": "python3"
  },
  "language_info": {
   "codemirror_mode": {
    "name": "ipython",
    "version": 3
   },
   "file_extension": ".py",
   "mimetype": "text/x-python",
   "name": "python",
   "nbconvert_exporter": "python",
   "pygments_lexer": "ipython3",
   "version": "3.10.12"
  }
 },
 "nbformat": 4,
 "nbformat_minor": 5
}
