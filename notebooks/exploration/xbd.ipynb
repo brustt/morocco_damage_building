{
 "cells": [
  {
   "cell_type": "code",
   "execution_count": 1,
   "id": "b5f8df4e-3acb-424a-ac66-ee99648fdc35",
   "metadata": {},
   "outputs": [],
   "source": [
    "import rasterio as rio\n",
    "import geopandas as gpd\n",
    "import fiona\n",
    "import os\n",
    "import pickle\n",
    "# enable kml file reading for geopandas\n",
    "from shapely.geometry import box, Polygon\n",
    "import pandas as pd\n",
    "import numpy as np\n",
    "import leafmap.foliumap as leafmap # use folium backend\n",
    "import rioxarray as rioxr\n",
    "from typing import List, Union, Dict\n",
    "from pathlib import Path\n",
    "from shapely import box\n",
    "from PIL import Image\n",
    "import matplotlib.pyplot as plt\n",
    "import json\n",
    "fiona.drvsupport.supported_drivers['KML'] = 'rw'\n",
    "\n",
    "\n",
    "pd.options.display.max_columns = 50"
   ]
  },
  {
   "cell_type": "code",
   "execution_count": 2,
   "id": "6ee2e51c-e737-4da7-8dec-438e47be94f0",
   "metadata": {},
   "outputs": [],
   "source": [
    "CRS = 32629"
   ]
  },
  {
   "cell_type": "code",
   "execution_count": 3,
   "id": "736a858d-199f-416b-95fd-5032803edddc",
   "metadata": {},
   "outputs": [],
   "source": [
    "project_path = os.path.expanduser(\"/home/rustt/Documents/Projects/building_damage\")"
   ]
  },
  {
   "cell_type": "code",
   "execution_count": 4,
   "id": "7dadbfae-75ac-48f9-8306-a19770cf10d6",
   "metadata": {},
   "outputs": [],
   "source": [
    "out_dir_path = os.path.join(project_path, \"Data/processed\")\n",
    "raw_data_path = os.path.join(project_path, \"Data/raw\")\n",
    "town_loc_path = os.path.join(raw_data_path, \"villages_location/Earthquake_marocco_town.kml\")"
   ]
  },
  {
   "cell_type": "code",
   "execution_count": 5,
   "id": "e8a8b93e-4a78-4fb0-904a-5dbbda18103c",
   "metadata": {},
   "outputs": [],
   "source": [
    "def make_path(file_name, dir=out_dir_path):\n",
    "    return os.path.join(dir, file_name)\n",
    "\n",
    "def save_pickle(data, output_path):\n",
    "    with open(output_path, 'wb') as f:\n",
    "        pickle.dump(data, f)\n",
    "        \n",
    "def load_pickle(path):\n",
    "    with open(path, 'rb') as f:\n",
    "        data = pickle.load(f)\n",
    "    return data"
   ]
  },
  {
   "cell_type": "code",
   "execution_count": 6,
   "id": "98226eba-c2c1-4f0b-9b38-ea138b1d6279",
   "metadata": {},
   "outputs": [],
   "source": [
    "with open(os.path.join(raw_data_path, \"xview_geotransforms.json\")) as fp:\n",
    "    xview = json.load(fp)"
   ]
  },
  {
   "cell_type": "code",
   "execution_count": 7,
   "id": "6ecae185-771e-4b16-8b28-75902e3c4de2",
   "metadata": {},
   "outputs": [
    {
     "data": {
      "text/plain": [
       "dict"
      ]
     },
     "execution_count": 7,
     "metadata": {},
     "output_type": "execute_result"
    }
   ],
   "source": [
    "type(xview)"
   ]
  },
  {
   "cell_type": "code",
   "execution_count": 8,
   "id": "146b9673-46a5-46e3-8a64-2222ca4c99e0",
   "metadata": {},
   "outputs": [
    {
     "data": {
      "text/plain": [
       "22068"
      ]
     },
     "execution_count": 8,
     "metadata": {},
     "output_type": "execute_result"
    }
   ],
   "source": [
    "len(xview)"
   ]
  },
  {
   "cell_type": "code",
   "execution_count": 9,
   "id": "eb42d48f-c7d0-4860-b548-432e0d5252e9",
   "metadata": {},
   "outputs": [
    {
     "data": {
      "text/plain": [
       "['guatemala-volcano_00000020_pre_disaster.png',\n",
       " 'guatemala-volcano_00000020_post_disaster.png']"
      ]
     },
     "execution_count": 9,
     "metadata": {},
     "output_type": "execute_result"
    }
   ],
   "source": [
    "list(xview.keys())[:2]"
   ]
  },
  {
   "cell_type": "markdown",
   "id": "a14dd4ea-3ad7-4374-9ab8-adde2992d3e6",
   "metadata": {},
   "source": [
    "### xview[]"
   ]
  },
  {
   "cell_type": "code",
   "execution_count": 16,
   "id": "cfd85135-d2e5-45ef-8317-d6a1d8c5ee74",
   "metadata": {},
   "outputs": [
    {
     "data": {
      "text/plain": [
       "[[-90.82307020932015,\n",
       "  4.488628277641187e-06,\n",
       "  0.0,\n",
       "  14.414359902299086,\n",
       "  0.0,\n",
       "  -4.488628277641187e-06],\n",
       " 'GEOGCS[\"WGS 84\",DATUM[\"WGS_1984\",SPHEROID[\"WGS 84\",6378137,298.257223563,AUTHORITY[\"EPSG\",\"7030\"]],AUTHORITY[\"EPSG\",\"6326\"]],PRIMEM[\"Greenwich\",0],UNIT[\"degree\",0.0174532925199433],AUTHORITY[\"EPSG\",\"4326\"]]']"
      ]
     },
     "execution_count": 16,
     "metadata": {},
     "output_type": "execute_result"
    }
   ],
   "source": [
    "xview[\"guatemala-volcano_00000020_pre_disaster.png\"]"
   ]
  },
  {
   "cell_type": "code",
   "execution_count": 17,
   "id": "0bafe76d-0b81-4a93-8af1-c216c5f06134",
   "metadata": {},
   "outputs": [],
   "source": [
    "items = [_ for _ in xview.items()]"
   ]
  },
  {
   "cell_type": "code",
   "execution_count": 18,
   "id": "a95b9de7-d88e-46c4-8972-ba8afc7fcec8",
   "metadata": {},
   "outputs": [
    {
     "data": {
      "text/plain": [
       "[('guatemala-volcano_00000020_pre_disaster.png',\n",
       "  [[-90.82307020932015,\n",
       "    4.488628277641187e-06,\n",
       "    0.0,\n",
       "    14.414359902299086,\n",
       "    0.0,\n",
       "    -4.488628277641187e-06],\n",
       "   'GEOGCS[\"WGS 84\",DATUM[\"WGS_1984\",SPHEROID[\"WGS 84\",6378137,298.257223563,AUTHORITY[\"EPSG\",\"7030\"]],AUTHORITY[\"EPSG\",\"6326\"]],PRIMEM[\"Greenwich\",0],UNIT[\"degree\",0.0174532925199433],AUTHORITY[\"EPSG\",\"4326\"]]']),\n",
       " ('guatemala-volcano_00000020_post_disaster.png',\n",
       "  [[-90.82307020932015,\n",
       "    4.488628277641187e-06,\n",
       "    0.0,\n",
       "    14.414359902299086,\n",
       "    0.0,\n",
       "    -4.488628277641187e-06],\n",
       "   'GEOGCS[\"WGS 84\",DATUM[\"WGS_1984\",SPHEROID[\"WGS 84\",6378137,298.257223563,AUTHORITY[\"EPSG\",\"7030\"]],AUTHORITY[\"EPSG\",\"6326\"]],PRIMEM[\"Greenwich\",0],UNIT[\"degree\",0.0174532925199433],AUTHORITY[\"EPSG\",\"4326\"]]']),\n",
       " ('guatemala-volcano_00000022_pre_disaster.png',\n",
       "  [[-90.84656734507239,\n",
       "    4.488484900944135e-06,\n",
       "    0.0,\n",
       "    14.391883642640861,\n",
       "    0.0,\n",
       "    -4.488484900944135e-06],\n",
       "   'GEOGCS[\"WGS 84\",DATUM[\"WGS_1984\",SPHEROID[\"WGS 84\",6378137,298.257223563,AUTHORITY[\"EPSG\",\"7030\"]],AUTHORITY[\"EPSG\",\"6326\"]],PRIMEM[\"Greenwich\",0],UNIT[\"degree\",0.0174532925199433],AUTHORITY[\"EPSG\",\"4326\"]]']),\n",
       " ('guatemala-volcano_00000022_post_disaster.png',\n",
       "  [[-90.84656734507239,\n",
       "    4.488484900944135e-06,\n",
       "    0.0,\n",
       "    14.391883642640861,\n",
       "    0.0,\n",
       "    -4.488484900944135e-06],\n",
       "   'GEOGCS[\"WGS 84\",DATUM[\"WGS_1984\",SPHEROID[\"WGS 84\",6378137,298.257223563,AUTHORITY[\"EPSG\",\"7030\"]],AUTHORITY[\"EPSG\",\"6326\"]],PRIMEM[\"Greenwich\",0],UNIT[\"degree\",0.0174532925199433],AUTHORITY[\"EPSG\",\"4326\"]]']),\n",
       " ('guatemala-volcano_00000012_pre_disaster.png',\n",
       "  [[-90.80885796826026,\n",
       "    4.487991831209529e-06,\n",
       "    0.0,\n",
       "    14.364308367636164,\n",
       "    0.0,\n",
       "    -4.487991831209529e-06],\n",
       "   'GEOGCS[\"WGS 84\",DATUM[\"WGS_1984\",SPHEROID[\"WGS 84\",6378137,298.257223563,AUTHORITY[\"EPSG\",\"7030\"]],AUTHORITY[\"EPSG\",\"6326\"]],PRIMEM[\"Greenwich\",0],UNIT[\"degree\",0.0174532925199433],AUTHORITY[\"EPSG\",\"4326\"]]'])]"
      ]
     },
     "execution_count": 18,
     "metadata": {},
     "output_type": "execute_result"
    }
   ],
   "source": [
    "items[:5]"
   ]
  },
  {
   "cell_type": "code",
   "execution_count": null,
   "id": "b1719bd0-9898-4ef9-aa6e-a1c02fc1c716",
   "metadata": {},
   "outputs": [],
   "source": []
  }
 ],
 "metadata": {
  "kernelspec": {
   "display_name": "Python 3 (ipykernel)",
   "language": "python",
   "name": "python3"
  },
  "language_info": {
   "codemirror_mode": {
    "name": "ipython",
    "version": 3
   },
   "file_extension": ".py",
   "mimetype": "text/x-python",
   "name": "python",
   "nbconvert_exporter": "python",
   "pygments_lexer": "ipython3",
   "version": "3.10.12"
  }
 },
 "nbformat": 4,
 "nbformat_minor": 5
}
